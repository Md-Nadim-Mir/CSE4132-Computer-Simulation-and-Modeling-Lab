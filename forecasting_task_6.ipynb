{
  "cells": [
    {
      "cell_type": "markdown",
      "metadata": {
        "id": "q8TYYUxc9241"
      },
      "source": [
        "### Importing the Libraries"
      ]
    },
    {
      "cell_type": "code",
      "execution_count": 2,
      "metadata": {
        "id": "oAtZSBrSvrsD"
      },
      "outputs": [],
      "source": [
        "import matplotlib.pyplot as plt\n",
        "import pandas as pd\n",
        "from statsmodels.tsa.arima.model import ARIMA"
      ]
    },
    {
      "cell_type": "code",
      "execution_count": 3,
      "metadata": {
        "id": "wNB-JX6_-USk"
      },
      "outputs": [],
      "source": [
        "data = pd.read_csv(\"wwwusage.csv\")"
      ]
    },
    {
      "cell_type": "markdown",
      "metadata": {
        "id": "UtqvEK2l-uXc"
      },
      "source": [
        "### Creating Training & Test Dataset"
      ]
    },
    {
      "cell_type": "code",
      "execution_count": 4,
      "metadata": {
        "id": "C8xcT7be-zND"
      },
      "outputs": [],
      "source": [
        "size = int(len(data) * 0.80)\n",
        "train, test = data[0:size], data[size:len(data)]"
      ]
    },
    {
      "cell_type": "markdown",
      "metadata": {
        "id": "EThJkrZL_Q4s"
      },
      "source": [
        "### Building Model"
      ]
    },
    {
      "cell_type": "code",
      "execution_count": 5,
      "metadata": {
        "id": "hFNBH6k1DLgU"
      },
      "outputs": [],
      "source": [
        "model = ARIMA(train, order = (1, 2, 3))\n",
        "fitted_model = model.fit()"
      ]
    },
    {
      "cell_type": "code",
      "execution_count": 8,
      "metadata": {
        "colab": {
          "base_uri": "https://localhost:8080/"
        },
        "id": "2fkOudiNDVIV",
        "outputId": "6560cdec-ca9a-44ce-bbef-98bde41629b7"
      },
      "outputs": [
        {
          "name": "stdout",
          "output_type": "stream",
          "text": [
            "                               SARIMAX Results                                \n",
            "==============================================================================\n",
            "Dep. Variable:                      x   No. Observations:                   80\n",
            "Model:                 ARIMA(1, 2, 3)   Log Likelihood                -201.876\n",
            "Date:                Tue, 16 Jan 2024   AIC                            413.752\n",
            "Time:                        05:54:42   BIC                            425.535\n",
            "Sample:                             0   HQIC                           418.469\n",
            "                                 - 80                                         \n",
            "Covariance Type:                  opg                                         \n",
            "==============================================================================\n",
            "                 coef    std err          z      P>|z|      [0.025      0.975]\n",
            "------------------------------------------------------------------------------\n",
            "ar.L1         -0.2476      0.399     -0.620      0.535      -1.030       0.535\n",
            "ma.L1          0.4652      0.385      1.209      0.227      -0.289       1.220\n",
            "ma.L2         -0.3124      0.108     -2.883      0.004      -0.525      -0.100\n",
            "ma.L3         -0.3714      0.147     -2.519      0.012      -0.660      -0.082\n",
            "sigma2        10.2918      1.718      5.989      0.000       6.924      13.660\n",
            "===================================================================================\n",
            "Ljung-Box (L1) (Q):                   0.01   Jarque-Bera (JB):                 0.01\n",
            "Prob(Q):                              0.92   Prob(JB):                         1.00\n",
            "Heteroskedasticity (H):               0.60   Skew:                            -0.02\n",
            "Prob(H) (two-sided):                  0.20   Kurtosis:                         2.97\n",
            "===================================================================================\n",
            "\n",
            "Warnings:\n",
            "[1] Covariance matrix calculated using the outer product of gradients (complex-step).\n"
          ]
        }
      ],
      "source": [
        "print(fitted_model.summary())"
      ]
    },
    {
      "cell_type": "markdown",
      "metadata": {
        "id": "CvpAwJdIDeXk"
      },
      "source": [
        "### Forecasting"
      ]
    },
    {
      "cell_type": "code",
      "execution_count": 7,
      "metadata": {
        "colab": {
          "base_uri": "https://localhost:8080/",
          "height": 742
        },
        "id": "hRQ0apPMDhG7",
        "outputId": "c1b7ed5b-685b-49ab-ad23-ef0b2ef07d10"
      },
      "outputs": [],
      "source": [
        "forecast = fitted_model.forecast(len(test), 0.05) # 95% confidence\n",
        "forecast = pd.Series(forecast, index = test.index)\n",
        "\n",
        "plt.figure(figsize = (14, 7))\n",
        "plt.plot(train, label = \"Training\")\n",
        "plt.plot(test, label = \"Actual\")\n",
        "plt.plot(forecast, label = \"Forecast\")\n",
        "plt.title(\"Forecast vs Actuals\")\n",
        "plt.legend()\n",
        "plt.show()"
      ]
    }
  ],
  "metadata": {
    "colab": {
      "provenance": []
    },
    "kernelspec": {
      "display_name": "Python 3",
      "name": "python3"
    },
    "language_info": {
      "codemirror_mode": {
        "name": "ipython",
        "version": 3
      },
      "file_extension": ".py",
      "mimetype": "text/x-python",
      "name": "python",
      "nbconvert_exporter": "python",
      "pygments_lexer": "ipython3",
      "version": "3.12.1"
    }
  },
  "nbformat": 4,
  "nbformat_minor": 0
}
